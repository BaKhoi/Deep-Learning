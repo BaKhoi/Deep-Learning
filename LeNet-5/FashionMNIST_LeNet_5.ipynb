{
  "nbformat": 4,
  "nbformat_minor": 0,
  "metadata": {
    "colab": {
      "provenance": [],
      "gpuType": "T4"
    },
    "kernelspec": {
      "name": "python3",
      "display_name": "Python 3"
    },
    "language_info": {
      "name": "python"
    },
    "accelerator": "GPU"
  },
  "cells": [
    {
      "cell_type": "markdown",
      "source": [
        "# 0. Importing and Setting up"
      ],
      "metadata": {
        "id": "P2qZgVyyWrDo"
      }
    },
    {
      "cell_type": "code",
      "source": [
        "# Import Pytorch\n",
        "import torch\n",
        "from torch import nn\n",
        "\n",
        "# Import torchvision\n",
        "import torchvision\n",
        "from torchvision import datasets\n",
        "from torchvision import transforms\n",
        "from torchvision.transforms import ToTensor\n",
        "\n",
        "# Visualization\n",
        "import matplotlib.pyplot as plt\n",
        "\n",
        "torch.__version__\n",
        "import torch"
      ],
      "metadata": {
        "id": "ziQzM-o0XADH"
      },
      "execution_count": null,
      "outputs": []
    },
    {
      "cell_type": "code",
      "source": [
        "# Set up device agnostice code\n",
        "device = \"cuda\" if torch.cuda.is_available() else \"cpu\"\n",
        "\n",
        "device"
      ],
      "metadata": {
        "colab": {
          "base_uri": "https://localhost:8080/",
          "height": 35
        },
        "id": "-wPQphekXEh5",
        "outputId": "09accb5d-fe7e-4bf7-903e-258759c5b5c2"
      },
      "execution_count": null,
      "outputs": [
        {
          "output_type": "execute_result",
          "data": {
            "text/plain": [
              "'cuda'"
            ],
            "application/vnd.google.colaboratory.intrinsic+json": {
              "type": "string"
            }
          },
          "metadata": {},
          "execution_count": 2
        }
      ]
    },
    {
      "cell_type": "code",
      "source": [
        "!nvidia-smi"
      ],
      "metadata": {
        "colab": {
          "base_uri": "https://localhost:8080/"
        },
        "id": "iISYrIt1XqpF",
        "outputId": "90b6a3f4-07c1-41ca-a3bc-8b3f5cced06f"
      },
      "execution_count": null,
      "outputs": [
        {
          "output_type": "stream",
          "name": "stdout",
          "text": [
            "Mon Jun 10 13:51:29 2024       \n",
            "+---------------------------------------------------------------------------------------+\n",
            "| NVIDIA-SMI 535.104.05             Driver Version: 535.104.05   CUDA Version: 12.2     |\n",
            "|-----------------------------------------+----------------------+----------------------+\n",
            "| GPU  Name                 Persistence-M | Bus-Id        Disp.A | Volatile Uncorr. ECC |\n",
            "| Fan  Temp   Perf          Pwr:Usage/Cap |         Memory-Usage | GPU-Util  Compute M. |\n",
            "|                                         |                      |               MIG M. |\n",
            "|=========================================+======================+======================|\n",
            "|   0  Tesla T4                       Off | 00000000:00:04.0 Off |                    0 |\n",
            "| N/A   61C    P8              10W /  70W |      3MiB / 15360MiB |      0%      Default |\n",
            "|                                         |                      |                  N/A |\n",
            "+-----------------------------------------+----------------------+----------------------+\n",
            "                                                                                         \n",
            "+---------------------------------------------------------------------------------------+\n",
            "| Processes:                                                                            |\n",
            "|  GPU   GI   CI        PID   Type   Process name                            GPU Memory |\n",
            "|        ID   ID                                                             Usage      |\n",
            "|=======================================================================================|\n",
            "|  No running processes found                                                           |\n",
            "+---------------------------------------------------------------------------------------+\n"
          ]
        }
      ]
    },
    {
      "cell_type": "code",
      "source": [
        "!nvcc --version"
      ],
      "metadata": {
        "colab": {
          "base_uri": "https://localhost:8080/"
        },
        "id": "4tOlWZztXsRW",
        "outputId": "5385bf16-a634-44cd-f294-ba74bd442877"
      },
      "execution_count": null,
      "outputs": [
        {
          "output_type": "stream",
          "name": "stdout",
          "text": [
            "nvcc: NVIDIA (R) Cuda compiler driver\n",
            "Copyright (c) 2005-2023 NVIDIA Corporation\n",
            "Built on Tue_Aug_15_22:02:13_PDT_2023\n",
            "Cuda compilation tools, release 12.2, V12.2.140\n",
            "Build cuda_12.2.r12.2/compiler.33191640_0\n"
          ]
        }
      ]
    },
    {
      "cell_type": "markdown",
      "source": [
        "# 1. Get the dataset"
      ],
      "metadata": {
        "id": "hbbTT-3WXuXF"
      }
    },
    {
      "cell_type": "code",
      "source": [
        "# Setup training data\n",
        "train_data = datasets.FashionMNIST(\n",
        "    root = \"data\",\n",
        "    train = True,\n",
        "    download = True,\n",
        "    transform = transforms.ToTensor()\n",
        ")\n",
        "\n",
        "test_data = datasets.FashionMNIST(\n",
        "    root = \"data\",\n",
        "    train = False,\n",
        "    download = True,\n",
        "    transform = transforms.ToTensor()\n",
        ")"
      ],
      "metadata": {
        "id": "Km9Ms6PbX8ga"
      },
      "execution_count": null,
      "outputs": []
    },
    {
      "cell_type": "markdown",
      "source": [
        "# 2. Data Preparation and Data Exploration"
      ],
      "metadata": {
        "id": "P_bZZ9kTY_JF"
      }
    },
    {
      "cell_type": "code",
      "source": [
        "len(train_data)"
      ],
      "metadata": {
        "colab": {
          "base_uri": "https://localhost:8080/"
        },
        "id": "F4f9pvZDZJiw",
        "outputId": "0c31b873-49bb-4de8-a793-68bae7bdc988"
      },
      "execution_count": null,
      "outputs": [
        {
          "output_type": "execute_result",
          "data": {
            "text/plain": [
              "60000"
            ]
          },
          "metadata": {},
          "execution_count": 6
        }
      ]
    },
    {
      "cell_type": "code",
      "source": [
        "# Dictionary of class names\n",
        "class_names = {\n",
        "    0: \"T-shirt/top\",\n",
        "    1: \"Trouser\",\n",
        "    2: \"Pullover\",\n",
        "    3: \"Dress\",\n",
        "    4: \"Coat\",\n",
        "    5: \"Sandal\",\n",
        "    6: \"Shirt\",\n",
        "    7: \"Sneaker\",\n",
        "    8: \"Bag\",\n",
        "    9: \"Ankle boot\"\n",
        "}\n"
      ],
      "metadata": {
        "id": "crTGH-0fZQaR"
      },
      "execution_count": null,
      "outputs": []
    },
    {
      "cell_type": "code",
      "source": [
        "cols, rows = 3, 3\n",
        "fig, ax = plt.subplots(nrows=rows, ncols=cols, figsize=(10, 10))\n",
        "\n",
        "for i in range(rows * cols):\n",
        "    idx = torch.randint(len(train_data), size=(1,)).item()\n",
        "    img, label = train_data[idx]\n",
        "    img = img.squeeze().numpy()  # Convert to numpy array if it's a PyTorch tensor\n",
        "\n",
        "    ax[i // cols, i % cols].imshow(img, cmap=\"gray\")  # Display the image\n",
        "    ax[i // cols, i % cols].set_title(class_names[label])  # Set the title\n",
        "    ax[i // cols, i % cols].axis(False)  # Turn off axis\n",
        "\n",
        "plt.show()"
      ],
      "metadata": {
        "colab": {
          "base_uri": "https://localhost:8080/",
          "height": 829
        },
        "id": "RcrYh-STekcz",
        "outputId": "145ab04d-5376-43d1-cea5-948077161eb4"
      },
      "execution_count": null,
      "outputs": [
        {
          "output_type": "display_data",
          "data": {
            "text/plain": [
              "<Figure size 1000x1000 with 9 Axes>"
            ],
            "image/png": "[encoded data removed]"
          },
          "metadata": {}
        }
      ]
    },
    {
      "cell_type": "markdown",
      "source": [
        "# 3. Turn loaded images into DataLoaders"
      ],
      "metadata": {
        "id": "8RgPlN88aEgm"
      }
    },
    {
      "cell_type": "code",
      "source": [
        "from torch.utils.data import DataLoader\n",
        "\n",
        "# Setup the batch size hyperparameter\n",
        "BATCH_SIZE = 64\n",
        "\n",
        "# Turn datasets into iterables (batches)\n",
        "train_dataloader = DataLoader(dataset=train_data,\n",
        "                              batch_size=BATCH_SIZE,\n",
        "                              shuffle=True)\n",
        "test_dataloader = DataLoader(dataset=test_data,\n",
        "                              batch_size=BATCH_SIZE,\n",
        "                              shuffle=False)\n",
        "\n",
        "train_dataloader, test_dataloader\n"
      ],
      "metadata": {
        "colab": {
          "base_uri": "https://localhost:8080/"
        },
        "id": "1l5vEpNhiiYJ",
        "outputId": "78f5838e-4c30-41f0-c1eb-3f61cb05ca84"
      },
      "execution_count": null,
      "outputs": [
        {
          "output_type": "execute_result",
          "data": {
            "text/plain": [
              "(<torch.utils.data.dataloader.DataLoader at 0x7edef7a065f0>,\n",
              " <torch.utils.data.dataloader.DataLoader at 0x7edef7a06dd0>)"
            ]
          },
          "metadata": {},
          "execution_count": 9
        }
      ]
    },
    {
      "cell_type": "code",
      "source": [
        "len(train_data.classes)"
      ],
      "metadata": {
        "colab": {
          "base_uri": "https://localhost:8080/"
        },
        "id": "g2-JBF8CijLI",
        "outputId": "c2f49a40-3e75-4fa8-eb2c-4ac8315d69f2"
      },
      "execution_count": null,
      "outputs": [
        {
          "output_type": "execute_result",
          "data": {
            "text/plain": [
              "10"
            ]
          },
          "metadata": {},
          "execution_count": 10
        }
      ]
    },
    {
      "cell_type": "code",
      "source": [
        "img, label = next(iter(train_dataloader))\n",
        "\n",
        "print(f\"Image shape: {img.shape}\")\n",
        "print(f\"Label shape: {label.shape}\")"
      ],
      "metadata": {
        "colab": {
          "base_uri": "https://localhost:8080/"
        },
        "id": "IxYhJ6KRipEB",
        "outputId": "e3aa911f-55b5-404a-9bef-44de2839e990"
      },
      "execution_count": null,
      "outputs": [
        {
          "output_type": "stream",
          "name": "stdout",
          "text": [
            "Image shape: torch.Size([64, 1, 28, 28])\n",
            "Label shape: torch.Size([64])\n"
          ]
        }
      ]
    },
    {
      "cell_type": "markdown",
      "source": [
        "# 4. Model 1: LeNet-5"
      ],
      "metadata": {
        "id": "2Dkh9w1biwx7"
      }
    },
    {
      "cell_type": "code",
      "source": [
        "class FashionMNIST_LeNet5(nn.Module):\n",
        "  def __init__(self, num_classes: int):\n",
        "    super().__init__()\n",
        "\n",
        "    self.layer1 = nn.Sequential(\n",
        "        nn.Conv2d(in_channels=1, out_channels=6, kernel_size=5, stride=1, padding=1),\n",
        "        nn.ReLU(),\n",
        "        nn.MaxPool2d(kernel_size=2, stride=2)\n",
        "    )\n",
        "\n",
        "    self.layer2 = nn.Sequential(\n",
        "        nn.Conv2d(in_channels=6, out_channels=16, kernel_size=5, stride=1, padding=1),\n",
        "        nn.ReLU(),\n",
        "        nn.MaxPool2d(kernel_size=2, stride=2)\n",
        "    )\n",
        "    self.fc = nn.Linear(in_features=400, out_features=120) # fully connected layer\n",
        "    self.bn1 = nn.BatchNorm1d(120)  # Batch normalization after the first linear layer\n",
        "    self.relu = nn.ReLU()\n",
        "    self.fc2 = nn.Linear(in_features=120, out_features=84)\n",
        "    self.bn2 = nn.BatchNorm1d(84)  # Batch normalization after the first linear layer\n",
        "    self.relu2 = nn.ReLU()\n",
        "    self.fc3 = nn.Linear(in_features=84, out_features=num_classes)\n",
        "    self.fc4 = nn.Softmax(dim=1)# Define proportion or neurons to dropout\n",
        "\n",
        "\n",
        "\n",
        "  def forward(self, x):\n",
        "    out = self.layer1(x)\n",
        "    out = self.layer2(out)\n",
        "    out = out.reshape(out.shape[0], -1) # flatten into single dimension\n",
        "    out = self.fc(out)\n",
        "    out = self.relu(self.bn1(out))\n",
        "    out = self.fc2(out)\n",
        "    out = self.relu2(self.bn2(out))\n",
        "    out = self.fc3(out)\n",
        "    out = self.fc4(out)\n",
        "\n",
        "    return out\n"
      ],
      "metadata": {
        "id": "S7DXZbY-kjUw"
      },
      "execution_count": null,
      "outputs": []
    },
    {
      "cell_type": "markdown",
      "source": [
        "## 4.1 Set up loss function and optimizer"
      ],
      "metadata": {
        "id": "Rw9IHawbqrit"
      }
    },
    {
      "cell_type": "code",
      "source": [
        "model_1 = FashionMNIST_LeNet5(num_classes=10)\n",
        "\n",
        "# Set up loss function\n",
        "loss_fn = nn.CrossEntropyLoss()\n",
        "\n",
        "# Set up optimizer\n",
        "learning_rate = 0.01\n",
        "optimizer = torch.optim.SGD(params=model_1.parameters(), lr=learning_rate)"
      ],
      "metadata": {
        "id": "3OrisyJrqxDK"
      },
      "execution_count": null,
      "outputs": []
    },
    {
      "cell_type": "markdown",
      "source": [
        "## 4.2 Model summary"
      ],
      "metadata": {
        "id": "rGat3RfArQDV"
      }
    },
    {
      "cell_type": "code",
      "source": [
        "# Instll torchinfo, import if its available\n",
        "try:\n",
        "  import torchinfo\n",
        "  print(\"torchinfo available\")\n",
        "except:\n",
        "  !pip install torchinfo\n",
        "  import torchinfo\n",
        "  print(\"torchinfo not available, installing\")"
      ],
      "metadata": {
        "colab": {
          "base_uri": "https://localhost:8080/"
        },
        "id": "zyJmUeE6rSxF",
        "outputId": "9e0c9ad7-4356-44f9-ba5d-5ee05a016c72"
      },
      "execution_count": null,
      "outputs": [
        {
          "output_type": "stream",
          "name": "stdout",
          "text": [
            "torchinfo available\n"
          ]
        }
      ]
    },
    {
      "cell_type": "code",
      "source": [
        "import torchinfo\n",
        "from torchinfo import summary\n",
        "\n",
        "summary(model=model_1, input_size=(1, 1, 28, 28))"
      ],
      "metadata": {
        "colab": {
          "base_uri": "https://localhost:8080/"
        },
        "id": "5W6dIdEkrXBb",
        "outputId": "1e099768-eef5-449b-c13d-a61484e27403"
      },
      "execution_count": null,
      "outputs": [
        {
          "output_type": "execute_result",
          "data": {
            "text/plain": [
              "==========================================================================================\n",
              "Layer (type:depth-idx)                   Output Shape              Param #\n",
              "==========================================================================================\n",
              "FashionMNIST_LeNet5                      [1, 10]                   --\n",
              "├─Sequential: 1-1                        [1, 6, 13, 13]            --\n",
              "│    └─Conv2d: 2-1                       [1, 6, 26, 26]            156\n",
              "│    └─ReLU: 2-2                         [1, 6, 26, 26]            --\n",
              "│    └─MaxPool2d: 2-3                    [1, 6, 13, 13]            --\n",
              "├─Sequential: 1-2                        [1, 16, 5, 5]             --\n",
              "│    └─Conv2d: 2-4                       [1, 16, 11, 11]           2,416\n",
              "│    └─ReLU: 2-5                         [1, 16, 11, 11]           --\n",
              "│    └─MaxPool2d: 2-6                    [1, 16, 5, 5]             --\n",
              "├─Linear: 1-3                            [1, 120]                  48,120\n",
              "├─BatchNorm1d: 1-4                       [1, 120]                  240\n",
              "├─ReLU: 1-5                              [1, 120]                  --\n",
              "├─Linear: 1-6                            [1, 84]                   10,164\n",
              "├─BatchNorm1d: 1-7                       [1, 84]                   168\n",
              "├─ReLU: 1-8                              [1, 84]                   --\n",
              "├─Linear: 1-9                            [1, 10]                   850\n",
              "├─Softmax: 1-10                          [1, 10]                   --\n",
              "==========================================================================================\n",
              "Total params: 62,114\n",
              "Trainable params: 62,114\n",
              "Non-trainable params: 0\n",
              "Total mult-adds (M): 0.46\n",
              "==========================================================================================\n",
              "Input size (MB): 0.00\n",
              "Forward/backward pass size (MB): 0.05\n",
              "Params size (MB): 0.25\n",
              "Estimated Total Size (MB): 0.30\n",
              "=========================================================================================="
            ]
          },
          "metadata": {},
          "execution_count": 15
        }
      ]
    },
    {
      "cell_type": "markdown",
      "source": [
        "## 4.3 Helper functions"
      ],
      "metadata": {
        "id": "QQQFc3zwtUnB"
      }
    },
    {
      "cell_type": "code",
      "source": [
        "# Download helper funcs from Learn PyTorch repo\n",
        "import requests\n",
        "from pathlib import Path\n",
        "\n",
        "if Path(\"helper_functions.py\").is_file():\n",
        "  print(\"helper_functions.py already exists, skipping download...\")\n",
        "else:\n",
        "  print(\"Downloading helper functions.py\")\n",
        "  request = requests.get(\"https://raw.githubusercontent.com/mrdbourke/pytorch-deep-learning/main/helper_functions.py\")\n",
        "  with open(\"helper_functions.py\", \"wb\") as file: # create and open a file to write helper functions to that file\n",
        "    file.write(request.content)"
      ],
      "metadata": {
        "colab": {
          "base_uri": "https://localhost:8080/"
        },
        "id": "GgcBptbLtSLW",
        "outputId": "2186fde9-f217-4240-f01e-3cd2e15f5d1d"
      },
      "execution_count": null,
      "outputs": [
        {
          "output_type": "stream",
          "name": "stdout",
          "text": [
            "helper_functions.py already exists, skipping download...\n"
          ]
        }
      ]
    },
    {
      "cell_type": "code",
      "source": [
        "from helper_functions import accuracy_fn, plot_loss_curves"
      ],
      "metadata": {
        "id": "7FOdEzdbtK1r"
      },
      "execution_count": null,
      "outputs": []
    },
    {
      "cell_type": "markdown",
      "source": [
        "## 5. Create train and test loops fucntion"
      ],
      "metadata": {
        "id": "xDZKVfdtri7b"
      }
    },
    {
      "cell_type": "code",
      "source": [
        "def train_step(model: torch.nn.Module,\n",
        "               data_loader: torch.utils.data.DataLoader,\n",
        "               loss_fn: torch.nn.Module,\n",
        "               optimizer: torch.optim.Optimizer,\n",
        "               accuracy_fn,\n",
        "               device: torch.device = device):\n",
        "    train_loss, train_acc = 0, 0\n",
        "    model.to(device)\n",
        "    for batch, (X, y) in enumerate(data_loader):\n",
        "        # Send data to GPU\n",
        "        X, y = X.to(device), y.to(device)\n",
        "\n",
        "        # 1. Forward pass\n",
        "        y_pred = model(X)\n",
        "\n",
        "        # 2. Calculate loss\n",
        "        loss = loss_fn(y_pred, y)\n",
        "        train_loss += loss.item()\n",
        "        train_acc += accuracy_fn(y_true=y,\n",
        "                                 y_pred=y_pred.argmax(dim=1)) # Go from logits -> pred labels\n",
        "\n",
        "        # 3. Optimizer zero grad\n",
        "        optimizer.zero_grad()\n",
        "\n",
        "        # 4. Loss backward\n",
        "        loss.backward()\n",
        "\n",
        "        # 5. Optimizer step\n",
        "        optimizer.step()\n",
        "\n",
        "    # Calculate loss and accuracy per epoch and print out what's happening\n",
        "    train_loss /= len(data_loader)\n",
        "    train_acc /= len(data_loader)\n",
        "    return train_loss, train_acc\n",
        "\n",
        "def test_step(data_loader: torch.utils.data.DataLoader,\n",
        "              model: torch.nn.Module,\n",
        "              loss_fn: torch.nn.Module,\n",
        "              accuracy_fn,\n",
        "              device: torch.device = device):\n",
        "    test_loss, test_acc = 0, 0\n",
        "    model.to(device)\n",
        "    model.eval() # put model in eval mode\n",
        "    # Turn on inference context manager\n",
        "    with torch.inference_mode():\n",
        "        for X, y in data_loader:\n",
        "            # Send data to GPU\n",
        "            X, y = X.to(device), y.to(device)\n",
        "\n",
        "            # 1. Forward pass\n",
        "            test_pred = model(X)\n",
        "\n",
        "            # 2. Calculate loss and accuracy\n",
        "            test_loss += loss_fn(test_pred, y).item()\n",
        "            test_acc += accuracy_fn(y_true=y,\n",
        "                y_pred=test_pred.argmax(dim=1) # Go from logits -> pred labels\n",
        "            )\n",
        "\n",
        "        # Adjust metrics and print out\n",
        "        test_loss /= len(data_loader)\n",
        "        test_acc /= len(data_loader)\n",
        "        return test_loss, test_acc"
      ],
      "metadata": {
        "id": "TTFbZtHKsT6y"
      },
      "execution_count": null,
      "outputs": []
    },
    {
      "cell_type": "markdown",
      "source": [
        "## 5.2 Create timer"
      ],
      "metadata": {
        "id": "4ieVwy7UssMp"
      }
    },
    {
      "cell_type": "code",
      "source": [
        "\n",
        "from timeit import default_timer as timer\n",
        "def print_train_time(start: float,\n",
        "                     end: float,\n",
        "                     device: torch.device = None):\n",
        "  \"\"\"Prints difference btw start and end time\"\"\"\n",
        "  total_time = end - start\n",
        "  print(f\"Train time on {device}: {total_time:.3f} seconds\")\n",
        "  return total_time"
      ],
      "metadata": {
        "id": "kUacIKp7spLQ"
      },
      "execution_count": null,
      "outputs": []
    },
    {
      "cell_type": "markdown",
      "source": [
        "## 5.3 Combine everything into a train function"
      ],
      "metadata": {
        "id": "6eQKAJ6gsxKN"
      }
    },
    {
      "cell_type": "code",
      "source": [
        "from tqdm import tqdm"
      ],
      "metadata": {
        "id": "HAUrLyZwtg3R"
      },
      "execution_count": null,
      "outputs": []
    },
    {
      "cell_type": "code",
      "source": [
        "# Combine\n",
        "def train(model: torch.nn.Module,\n",
        "          train_dataloader: torch.utils.data.DataLoader,\n",
        "          test_dataloader: torch.utils.data.DataLoader,\n",
        "          optimizer: torch.optim.Optimizer,\n",
        "          loss_fn: torch.nn.Module,\n",
        "          accuracy_fn,\n",
        "          epochs: int,\n",
        "          device: torch.device = device):\n",
        "\n",
        "  # Create an empty result dictionary\n",
        "  results = {\"train_loss\": [],\n",
        "             \"train_acc\": [],\n",
        "             \"test_loss\": [],\n",
        "             \"test_acc\": []}\n",
        "  # 3. Loop through training and testing steps for a number of epochs\n",
        "  for epoch in tqdm(range(1, epochs + 1)):\n",
        "    print(f\"Epoch: {epoch}\\n-------------\")\n",
        "    train_loss, train_acc = train_step(model=model,\n",
        "                                        data_loader=train_dataloader,\n",
        "                                        loss_fn=loss_fn,\n",
        "                                        optimizer=optimizer,\n",
        "                                        accuracy_fn=accuracy_fn,\n",
        "                                        device=device)\n",
        "    test_loss, test_acc = test_step(model=model,\n",
        "                                    data_loader=test_dataloader,\n",
        "                                    loss_fn=loss_fn,\n",
        "                                    accuracy_fn=accuracy_fn,\n",
        "                                    device=device)\n",
        "    # 4. Print out what's happening\n",
        "    print(f\"\\nTrain loss: {train_loss:.5f} | Train accuracy: {train_acc:.2f}% | Test loss: {test_loss:.5f} | Test accuracy: {test_acc:.2f}%\\n\")\n",
        "\n",
        "    # 5. Update results dictionary\n",
        "    results[\"train_loss\"].append(train_loss)\n",
        "    results[\"train_acc\"].append(train_acc)\n",
        "    results[\"test_loss\"].append(test_loss)\n",
        "    results[\"test_acc\"].append(test_acc)\n",
        "\n",
        "  # 6. Return the filled result at the end of the epochs\n",
        "  return results"
      ],
      "metadata": {
        "id": "7WoZ-hkIsXUi"
      },
      "execution_count": null,
      "outputs": []
    },
    {
      "cell_type": "code",
      "source": [
        "# Measure time\n",
        "from timeit import default_timer as timer\n",
        "train_time_start_on_gpu = timer()\n",
        "\n",
        "# Train model\n",
        "epochs = 20\n",
        "model_1_results = train(model=model_1,\n",
        "                      train_dataloader=train_dataloader,\n",
        "                      test_dataloader=test_dataloader,\n",
        "                      optimizer=optimizer,\n",
        "                      loss_fn=loss_fn,\n",
        "                      accuracy_fn=accuracy_fn,\n",
        "                      epochs=epochs)\n",
        "\n",
        "train_time_end_on_gpu = timer()\n",
        "total_train_time_model_1 = print_train_time(start=train_time_start_on_gpu,\n",
        "                                              end=train_time_end_on_gpu,\n",
        "                                              device=device)\n"
      ],
      "metadata": {
        "colab": {
          "base_uri": "https://localhost:8080/"
        },
        "id": "pWtFnJwitjJc",
        "outputId": "3616d459-453b-4355-af18-ccb499a5bd33"
      },
      "execution_count": null,
      "outputs": [
        {
          "output_type": "stream",
          "name": "stderr",
          "text": [
            "\r  0%|          | 0/20 [00:00<?, ?it/s]"
          ]
        },
        {
          "output_type": "stream",
          "name": "stdout",
          "text": [
            "Epoch: 1\n",
            "-------------\n"
          ]
        },
        {
          "output_type": "stream",
          "name": "stderr",
          "text": [
            "\r  5%|▌         | 1/20 [00:23<07:18, 23.09s/it]"
          ]
        },
        {
          "output_type": "stream",
          "name": "stdout",
          "text": [
            "\n",
            "Train loss: 1.94940 | Train accuracy: 61.96% | Test loss: 1.79577 | Test accuracy: 74.43%\n",
            "\n",
            "Epoch: 2\n",
            "-------------\n"
          ]
        },
        {
          "output_type": "stream",
          "name": "stderr",
          "text": [
            "\r 10%|█         | 2/20 [00:35<04:59, 16.63s/it]"
          ]
        },
        {
          "output_type": "stream",
          "name": "stdout",
          "text": [
            "\n",
            "Train loss: 1.68727 | Train accuracy: 78.28% | Test loss: 1.69078 | Test accuracy: 77.62%\n",
            "\n",
            "Epoch: 3\n",
            "-------------\n"
          ]
        },
        {
          "output_type": "stream",
          "name": "stderr",
          "text": [
            "\r 15%|█▌        | 3/20 [00:47<04:06, 14.51s/it]"
          ]
        },
        {
          "output_type": "stream",
          "name": "stdout",
          "text": [
            "\n",
            "Train loss: 1.64544 | Train accuracy: 81.96% | Test loss: 1.64268 | Test accuracy: 82.07%\n",
            "\n",
            "Epoch: 4\n",
            "-------------\n"
          ]
        },
        {
          "output_type": "stream",
          "name": "stderr",
          "text": [
            "\r 20%|██        | 4/20 [00:59<03:38, 13.66s/it]"
          ]
        },
        {
          "output_type": "stream",
          "name": "stdout",
          "text": [
            "\n",
            "Train loss: 1.62559 | Train accuracy: 83.86% | Test loss: 1.62933 | Test accuracy: 83.40%\n",
            "\n",
            "Epoch: 5\n",
            "-------------\n"
          ]
        },
        {
          "output_type": "stream",
          "name": "stderr",
          "text": [
            "\r 25%|██▌       | 5/20 [01:11<03:17, 13.16s/it]"
          ]
        },
        {
          "output_type": "stream",
          "name": "stdout",
          "text": [
            "\n",
            "Train loss: 1.61483 | Train accuracy: 84.81% | Test loss: 1.61697 | Test accuracy: 84.53%\n",
            "\n",
            "Epoch: 6\n",
            "-------------\n"
          ]
        },
        {
          "output_type": "stream",
          "name": "stderr",
          "text": [
            "\r 30%|███       | 6/20 [01:23<02:59, 12.80s/it]"
          ]
        },
        {
          "output_type": "stream",
          "name": "stdout",
          "text": [
            "\n",
            "Train loss: 1.60718 | Train accuracy: 85.60% | Test loss: 1.60798 | Test accuracy: 85.33%\n",
            "\n",
            "Epoch: 7\n",
            "-------------\n"
          ]
        },
        {
          "output_type": "stream",
          "name": "stderr",
          "text": [
            "\r 35%|███▌      | 7/20 [01:36<02:44, 12.65s/it]"
          ]
        },
        {
          "output_type": "stream",
          "name": "stdout",
          "text": [
            "\n",
            "Train loss: 1.60043 | Train accuracy: 86.26% | Test loss: 1.60719 | Test accuracy: 85.38%\n",
            "\n",
            "Epoch: 8\n",
            "-------------\n"
          ]
        },
        {
          "output_type": "stream",
          "name": "stderr",
          "text": [
            "\r 40%|████      | 8/20 [01:50<02:36, 13.02s/it]"
          ]
        },
        {
          "output_type": "stream",
          "name": "stdout",
          "text": [
            "\n",
            "Train loss: 1.59494 | Train accuracy: 86.79% | Test loss: 1.60874 | Test accuracy: 85.46%\n",
            "\n",
            "Epoch: 9\n",
            "-------------\n"
          ]
        },
        {
          "output_type": "stream",
          "name": "stderr",
          "text": [
            "\r 45%|████▌     | 9/20 [02:02<02:21, 12.82s/it]"
          ]
        },
        {
          "output_type": "stream",
          "name": "stdout",
          "text": [
            "\n",
            "Train loss: 1.59042 | Train accuracy: 87.23% | Test loss: 1.60226 | Test accuracy: 85.97%\n",
            "\n",
            "Epoch: 10\n",
            "-------------\n"
          ]
        },
        {
          "output_type": "stream",
          "name": "stderr",
          "text": [
            "\r 50%|█████     | 10/20 [02:14<02:06, 12.65s/it]"
          ]
        },
        {
          "output_type": "stream",
          "name": "stdout",
          "text": [
            "\n",
            "Train loss: 1.58715 | Train accuracy: 87.53% | Test loss: 1.59702 | Test accuracy: 86.46%\n",
            "\n",
            "Epoch: 11\n",
            "-------------\n"
          ]
        },
        {
          "output_type": "stream",
          "name": "stderr",
          "text": [
            "\r 55%|█████▌    | 11/20 [02:26<01:52, 12.48s/it]"
          ]
        },
        {
          "output_type": "stream",
          "name": "stdout",
          "text": [
            "\n",
            "Train loss: 1.58451 | Train accuracy: 87.81% | Test loss: 1.58887 | Test accuracy: 87.20%\n",
            "\n",
            "Epoch: 12\n",
            "-------------\n"
          ]
        },
        {
          "output_type": "stream",
          "name": "stderr",
          "text": [
            "\r 60%|██████    | 12/20 [02:38<01:38, 12.37s/it]"
          ]
        },
        {
          "output_type": "stream",
          "name": "stdout",
          "text": [
            "\n",
            "Train loss: 1.58126 | Train accuracy: 88.09% | Test loss: 1.58916 | Test accuracy: 87.40%\n",
            "\n",
            "Epoch: 13\n",
            "-------------\n"
          ]
        },
        {
          "output_type": "stream",
          "name": "stderr",
          "text": [
            "\r 65%|██████▌   | 13/20 [02:51<01:26, 12.29s/it]"
          ]
        },
        {
          "output_type": "stream",
          "name": "stdout",
          "text": [
            "\n",
            "Train loss: 1.57787 | Train accuracy: 88.47% | Test loss: 1.59014 | Test accuracy: 87.24%\n",
            "\n",
            "Epoch: 14\n",
            "-------------\n"
          ]
        },
        {
          "output_type": "stream",
          "name": "stderr",
          "text": [
            "\r 70%|███████   | 14/20 [03:03<01:13, 12.27s/it]"
          ]
        },
        {
          "output_type": "stream",
          "name": "stdout",
          "text": [
            "\n",
            "Train loss: 1.57646 | Train accuracy: 88.53% | Test loss: 1.59107 | Test accuracy: 87.13%\n",
            "\n",
            "Epoch: 15\n",
            "-------------\n"
          ]
        },
        {
          "output_type": "stream",
          "name": "stderr",
          "text": [
            "\r 75%|███████▌  | 15/20 [03:15<01:00, 12.19s/it]"
          ]
        },
        {
          "output_type": "stream",
          "name": "stdout",
          "text": [
            "\n",
            "Train loss: 1.57405 | Train accuracy: 88.74% | Test loss: 1.58588 | Test accuracy: 87.71%\n",
            "\n",
            "Epoch: 16\n",
            "-------------\n"
          ]
        },
        {
          "output_type": "stream",
          "name": "stderr",
          "text": [
            "\r 80%|████████  | 16/20 [03:25<00:46, 11.73s/it]"
          ]
        },
        {
          "output_type": "stream",
          "name": "stdout",
          "text": [
            "\n",
            "Train loss: 1.57105 | Train accuracy: 89.13% | Test loss: 1.58575 | Test accuracy: 87.64%\n",
            "\n",
            "Epoch: 17\n",
            "-------------\n"
          ]
        },
        {
          "output_type": "stream",
          "name": "stderr",
          "text": [
            "\r 85%|████████▌ | 17/20 [03:37<00:34, 11.64s/it]"
          ]
        },
        {
          "output_type": "stream",
          "name": "stdout",
          "text": [
            "\n",
            "Train loss: 1.56892 | Train accuracy: 89.31% | Test loss: 1.57970 | Test accuracy: 88.29%\n",
            "\n",
            "Epoch: 18\n",
            "-------------\n"
          ]
        },
        {
          "output_type": "stream",
          "name": "stderr",
          "text": [
            "\r 90%|█████████ | 18/20 [03:48<00:22, 11.49s/it]"
          ]
        },
        {
          "output_type": "stream",
          "name": "stdout",
          "text": [
            "\n",
            "Train loss: 1.56713 | Train accuracy: 89.47% | Test loss: 1.57883 | Test accuracy: 88.25%\n",
            "\n",
            "Epoch: 19\n",
            "-------------\n"
          ]
        },
        {
          "output_type": "stream",
          "name": "stderr",
          "text": [
            "\r 95%|█████████▌| 19/20 [04:00<00:11, 11.63s/it]"
          ]
        },
        {
          "output_type": "stream",
          "name": "stdout",
          "text": [
            "\n",
            "Train loss: 1.56571 | Train accuracy: 89.66% | Test loss: 1.57976 | Test accuracy: 88.17%\n",
            "\n",
            "Epoch: 20\n",
            "-------------\n"
          ]
        },
        {
          "output_type": "stream",
          "name": "stderr",
          "text": [
            "100%|██████████| 20/20 [04:12<00:00, 12.62s/it]"
          ]
        },
        {
          "output_type": "stream",
          "name": "stdout",
          "text": [
            "\n",
            "Train loss: 1.56381 | Train accuracy: 89.82% | Test loss: 1.57833 | Test accuracy: 88.31%\n",
            "\n",
            "Train time on cuda: 252.438 seconds\n"
          ]
        },
        {
          "output_type": "stream",
          "name": "stderr",
          "text": [
            "\n"
          ]
        }
      ]
    },
    {
      "cell_type": "markdown",
      "source": [
        "# 6. Evaluate model"
      ],
      "metadata": {
        "id": "EkYlgcWEu8Zk"
      }
    },
    {
      "cell_type": "markdown",
      "source": [
        "## 6.1 Use Precision, Recall and F1 to Evaluate\n",
        "\n",
        "Because this is a multi-class classification problem, we need to calculate the metrics for each class"
      ],
      "metadata": {
        "id": "xs8bbC_uXCtH"
      }
    },
    {
      "cell_type": "code",
      "source": [
        "model_1.eval()\n",
        "y_true = []\n",
        "y_pred = []\n",
        "\n",
        "# Prediction of test dataset\n",
        "for img, labels in test_dataloader:\n",
        "  img, labels = img.to(device), labels.to(device)\n",
        "  outputs = model_1(img)\n",
        "  _, predicted = torch.max(outputs, dim=1)\n",
        "  y_true.extend(labels.cpu().numpy())\n",
        "  y_pred.extend(predicted.cpu().numpy())\n",
        "\n",
        "\n",
        "# Convert lists to tensors for calculation\n",
        "y_true_tensor = torch.tensor(y_true)\n",
        "y_pred_tensor = torch.tensor(y_pred)\n",
        "\n",
        "\n",
        "# Calculate precision, recall, and F1 score using PyTorch\n",
        "num_classes = 10\n",
        "\n",
        "### Initiate tensors\n",
        "TP = torch.zeros(num_classes)\n",
        "FP = torch.zeros(num_classes)\n",
        "FN = torch.zeros(num_classes)\n",
        "\n",
        "for c in range(num_classes):\n",
        "  TP[c] = ((y_true_tensor == c) & (y_pred_tensor == c)).sum().item()  # True positives\n",
        "  FP[c] = ((y_true_tensor != c) & (y_pred_tensor == c)).sum().item()  # False positives\n",
        "  FN[c] = ((y_true_tensor ==c) & (y_pred_tensor != c)).sum().item()  # True positives\n",
        "\n",
        "precision = TP / (TP + FP)\n",
        "recall = TP / (TP + FN)\n",
        "f1 = 2 * (precision * recall) / (precision + recall)\n"
      ],
      "metadata": {
        "id": "cdsYcnvPvllf"
      },
      "execution_count": null,
      "outputs": []
    },
    {
      "cell_type": "code",
      "source": [
        "print(f'Precision tensor: {precision}')\n",
        "print(f'Recall tensor: {recall}')\n",
        "print(f'F1 Score tensor: {f1}')"
      ],
      "metadata": {
        "colab": {
          "base_uri": "https://localhost:8080/"
        },
        "id": "xPforFS7vwOb",
        "outputId": "865d42da-21c6-40f8-b4a8-a7925ff17b1a"
      },
      "execution_count": null,
      "outputs": [
        {
          "output_type": "stream",
          "name": "stdout",
          "text": [
            "Precision tensor: tensor([0.7890, 0.9898, 0.8025, 0.8743, 0.8084, 0.9865, 0.7252, 0.9192, 0.9603,\n",
            "        0.9694])\n",
            "Recall tensor: tensor([0.8900, 0.9700, 0.8250, 0.9040, 0.7850, 0.9470, 0.6150, 0.9790, 0.9670,\n",
            "        0.9490])\n",
            "F1 Score tensor: tensor([0.8365, 0.9798, 0.8136, 0.8889, 0.7966, 0.9663, 0.6656, 0.9482, 0.9636,\n",
            "        0.9591])\n"
          ]
        }
      ]
    },
    {
      "cell_type": "code",
      "source": [
        "for i in range(num_classes):\n",
        "  print(f'Class {class_names[i]}: Precision = {precision[i]:.4f}, Recall = {recall[i]:.4f}, F1 Score = {f1[i]:.4f}')\n",
        "  print()"
      ],
      "metadata": {
        "colab": {
          "base_uri": "https://localhost:8080/"
        },
        "id": "Zm_CrHVaa_yq",
        "outputId": "07faff4c-09d2-4339-e7fd-f2f540585218"
      },
      "execution_count": null,
      "outputs": [
        {
          "output_type": "stream",
          "name": "stdout",
          "text": [
            "Class T-shirt/top: Precision = 0.7890, Recall = 0.8900, F1 Score = 0.8365\n",
            "\n",
            "Class Trouser: Precision = 0.9898, Recall = 0.9700, F1 Score = 0.9798\n",
            "\n",
            "Class Pullover: Precision = 0.8025, Recall = 0.8250, F1 Score = 0.8136\n",
            "\n",
            "Class Dress: Precision = 0.8743, Recall = 0.9040, F1 Score = 0.8889\n",
            "\n",
            "Class Coat: Precision = 0.8084, Recall = 0.7850, F1 Score = 0.7966\n",
            "\n",
            "Class Sandal: Precision = 0.9865, Recall = 0.9470, F1 Score = 0.9663\n",
            "\n",
            "Class Shirt: Precision = 0.7252, Recall = 0.6150, F1 Score = 0.6656\n",
            "\n",
            "Class Sneaker: Precision = 0.9192, Recall = 0.9790, F1 Score = 0.9482\n",
            "\n",
            "Class Bag: Precision = 0.9603, Recall = 0.9670, F1 Score = 0.9636\n",
            "\n",
            "Class Ankle boot: Precision = 0.9694, Recall = 0.9490, F1 Score = 0.9591\n",
            "\n"
          ]
        }
      ]
    },
    {
      "cell_type": "markdown",
      "source": [
        "## 6.2 Plot loss curve"
      ],
      "metadata": {
        "id": "hDMVp1gPXGyJ"
      }
    },
    {
      "cell_type": "code",
      "source": [
        "plot_loss_curves(results=model_1_results)"
      ],
      "metadata": {
        "colab": {
          "base_uri": "https://localhost:8080/",
          "height": 601
        },
        "id": "ceiOt-KTXLxY",
        "outputId": "65270155-22d2-4e52-8d01-19022aa83c72"
      },
      "execution_count": null,
      "outputs": [
        {
          "output_type": "display_data",
          "data": {
            "text/plain": [
              "<Figure size 1500x700 with 2 Axes>"
            ],
            "image/png": "[encoded data removed]"
          },
          "metadata": {}
        }
      ]
    },
    {
      "cell_type": "markdown",
      "source": [
        "## 6.3 Confusion Matrix"
      ],
      "metadata": {
        "id": "xtS8CXaxbyFp"
      }
    },
    {
      "cell_type": "code",
      "source": [
        "from sklearn.metrics import confusion_matrix, ConfusionMatrixDisplay\n",
        "\n",
        "cm = confusion_matrix(y_true, y_pred)\n",
        "disp = ConfusionMatrixDisplay(confusion_matrix=cm, display_labels=class_names)\n",
        "disp.plot()"
      ],
      "metadata": {
        "colab": {
          "base_uri": "https://localhost:8080/",
          "height": 466
        },
        "id": "2bAiwoK1b1Lm",
        "outputId": "119f2558-531e-4ece-843b-914479109118"
      },
      "execution_count": null,
      "outputs": [
        {
          "output_type": "execute_result",
          "data": {
            "text/plain": [
              "<sklearn.metrics._plot.confusion_matrix.ConfusionMatrixDisplay at 0x7edef04d7e50>"
            ]
          },
          "metadata": {},
          "execution_count": 27
        },
        {
          "output_type": "display_data",
          "data": {
            "text/plain": [
              "<Figure size 640x480 with 2 Axes>"
            ],
            "image/png": "[encoded data removed]"
          },
          "metadata": {}
        }
      ]
    },
    {
      "cell_type": "markdown",
      "source": [
        "# 7. Save model"
      ],
      "metadata": {
        "id": "fZt0wy5meP0o"
      }
    },
    {
      "cell_type": "code",
      "source": [
        "# Save the model state dictionary\n",
        "torch.save(model_1.state_dict(), 'FMNIST_LeNet5.pth')\n",
        "print(\"Model saved as FMNIST_LeNet5.pth\")"
      ],
      "metadata": {
        "colab": {
          "base_uri": "https://localhost:8080/"
        },
        "id": "xdoD1WoweIzY",
        "outputId": "a7b82744-b22a-48b5-d59b-71059d53a36b"
      },
      "execution_count": null,
      "outputs": [
        {
          "output_type": "stream",
          "name": "stdout",
          "text": [
            "Model saved as FMNIST_LeNet5.pth\n"
          ]
        }
      ]
    }
  ]
}